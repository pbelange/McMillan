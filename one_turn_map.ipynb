{
 "cells": [
  {
   "cell_type": "code",
   "execution_count": 2,
   "metadata": {},
   "outputs": [
    {
     "data": {
      "text/plain": [
       "{'knl': [a, b, c, d, e],\n",
       " 'ksl': [0],\n",
       " 'hxl': 0,\n",
       " 'hyl': 0,\n",
       " 'length': 0,\n",
       " '__class__': 'Multipole'}"
      ]
     },
     "metadata": {},
     "output_type": "display_data"
    },
    {
     "name": "stdout",
     "output_type": "stream",
     "text": [
      "----------------------------------------\n",
      "INITIAL\n",
      "----------------------------------------\n"
     ]
    },
    {
     "data": {
      "text/latex": [
       "$\\displaystyle x$"
      ],
      "text/plain": [
       "x"
      ]
     },
     "metadata": {},
     "output_type": "display_data"
    },
    {
     "data": {
      "text/latex": [
       "$\\displaystyle p_{x}$"
      ],
      "text/plain": [
       "p_x"
      ]
     },
     "metadata": {},
     "output_type": "display_data"
    },
    {
     "name": "stdout",
     "output_type": "stream",
     "text": [
      "----------------------------------------\n",
      "FINAL\n",
      "----------------------------------------\n"
     ]
    },
    {
     "data": {
      "text/latex": [
       "$\\displaystyle x$"
      ],
      "text/plain": [
       "x"
      ]
     },
     "metadata": {},
     "output_type": "display_data"
    },
    {
     "data": {
      "text/latex": [
       "$\\displaystyle - 1.0 a - 1.0 b x - 0.5 c x^{2} - 0.166666666666667 d x^{3} - 0.0416666666666667 e x^{4} + p_{x}$"
      ],
      "text/plain": [
       "-1.0*a - 1.0*b*x - 0.5*c*x**2 - 0.166666666666667*d*x**3 - 0.0416666666666667*e*x**4 + p_x"
      ]
     },
     "metadata": {},
     "output_type": "display_data"
    },
    {
     "name": "stdout",
     "output_type": "stream",
     "text": [
      "or collected as coefficients\n"
     ]
    },
    {
     "data": {
      "text/plain": [
       "defaultdict(int,\n",
       "            {p_x: 1,\n",
       "             x**2: -0.5*c,\n",
       "             x: -1.0*b,\n",
       "             x**4: -0.0416666666666667*e,\n",
       "             x**3: -0.166666666666667*d,\n",
       "             1: -1.0*a})"
      ]
     },
     "metadata": {},
     "output_type": "display_data"
    }
   ],
   "source": [
    "import sympy as sp\n",
    "import ducktrack as dtk\n",
    "\n",
    "x,px = sp.symbols('x p_x',real=True)\n",
    "\n",
    "\n",
    "dtk_particle = dtk.TestParticles(\n",
    "            p0c = 7000e9 ,\n",
    "            x   =x,\n",
    "            px  =px,\n",
    "            y   =0,\n",
    "            py  =0,\n",
    "            zeta=0)\n",
    "\n",
    "\n",
    "\n",
    "\n",
    "a,b,c,d,e = sp.symbols('a b c d e',real=True)\n",
    "ee = dtk.Multipole(knl = [a,b,c,d,e])\n",
    "display(ee.to_dict())\n",
    "\n",
    "print(+ 40*'-' + '\\nINITIAL\\n' + 40*'-')\n",
    "display(dtk_particle.x)\n",
    "display(dtk_particle.px)\n",
    "ee.track(dtk_particle)\n",
    "\n",
    "print(+ 40*'-' + '\\nFINAL\\n' + 40*'-')\n",
    "display(dtk_particle.x.expand())\n",
    "display(dtk_particle.px.expand())\n",
    "print('or collected as coefficients')\n",
    "display(dtk_particle.px.expand().as_coefficients_dict(x,px))\n"
   ]
  }
 ],
 "metadata": {
  "kernelspec": {
   "display_name": "py_McM",
   "language": "python",
   "name": "python3"
  },
  "language_info": {
   "codemirror_mode": {
    "name": "ipython",
    "version": 3
   },
   "file_extension": ".py",
   "mimetype": "text/x-python",
   "name": "python",
   "nbconvert_exporter": "python",
   "pygments_lexer": "ipython3",
   "version": "3.10.9"
  },
  "orig_nbformat": 4,
  "vscode": {
   "interpreter": {
    "hash": "9a055b55eee7f07a80d92e0c30eb302e1f4840a82ddd9530038979697348a0c6"
   }
  }
 },
 "nbformat": 4,
 "nbformat_minor": 2
}
